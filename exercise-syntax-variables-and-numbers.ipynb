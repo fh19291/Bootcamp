{
 "cells": [
  {
   "cell_type": "markdown",
   "id": "c9bcc934",
   "metadata": {
    "papermill": {
     "duration": 0.008331,
     "end_time": "2024-03-11T09:31:18.582310",
     "exception": false,
     "start_time": "2024-03-11T09:31:18.573979",
     "status": "completed"
    },
    "tags": []
   },
   "source": [
    "**This notebook is an exercise in the [Python](https://www.kaggle.com/learn/python) course.  You can reference the tutorial at [this link](https://www.kaggle.com/colinmorris/hello-python).**\n",
    "\n",
    "---\n"
   ]
  },
  {
   "cell_type": "markdown",
   "id": "70d45c7d",
   "metadata": {
    "papermill": {
     "duration": 0.008151,
     "end_time": "2024-03-11T09:31:18.598516",
     "exception": false,
     "start_time": "2024-03-11T09:31:18.590365",
     "status": "completed"
    },
    "tags": []
   },
   "source": [
    "Welcome to your first set of Python coding problems.  If this is your first time using Kaggle Notebooks, welcome! \n",
    "\n",
    "Notebooks are composed of blocks (called \"cells\") of text and code. Each of these is editable, though you'll mainly be editing the code cells to answer some questions.\n",
    "\n",
    "To get started, try running the code cell below (by pressing the ► button, or clicking on the cell and pressing ctrl+enter on your keyboard)."
   ]
  },
  {
   "cell_type": "code",
   "execution_count": 1,
   "id": "3c689caa",
   "metadata": {
    "execution": {
     "iopub.execute_input": "2024-03-11T09:31:18.616979Z",
     "iopub.status.busy": "2024-03-11T09:31:18.616256Z",
     "iopub.status.idle": "2024-03-11T09:31:18.629690Z",
     "shell.execute_reply": "2024-03-11T09:31:18.628693Z"
    },
    "papermill": {
     "duration": 0.025233,
     "end_time": "2024-03-11T09:31:18.632276",
     "exception": false,
     "start_time": "2024-03-11T09:31:18.607043",
     "status": "completed"
    },
    "tags": []
   },
   "outputs": [
    {
     "name": "stdout",
     "output_type": "stream",
     "text": [
      "2\n",
      "You've successfully run some Python code\n",
      "Congratulations!\n"
     ]
    }
   ],
   "source": [
    "print(1+1)\n",
    "print(\"You've successfully run some Python code\")\n",
    "print(\"Congratulations!\")"
   ]
  },
  {
   "cell_type": "markdown",
   "id": "5b9099c4",
   "metadata": {
    "papermill": {
     "duration": 0.007658,
     "end_time": "2024-03-11T09:31:18.648210",
     "exception": false,
     "start_time": "2024-03-11T09:31:18.640552",
     "status": "completed"
    },
    "tags": []
   },
   "source": [
    "Try adding another line of code in the cell above and re-running it. \n",
    "\n",
    "Now let's get a little fancier:  Add a new code cell by clicking on an existing code cell, hitting the escape key, and then hitting the `a` or `b` key.  The `a` key will add a cell above the current cell, and `b` adds a cell below.\n",
    "\n",
    "Great! Now you know how to use Notebooks.\n",
    "\n",
    "Each hands-on exercise starts by setting up our feedback and code checking mechanism. Run the code cell below to do that. Then you'll be ready to move on to question 0."
   ]
  },
  {
   "cell_type": "code",
   "execution_count": 2,
   "id": "504fcfec",
   "metadata": {
    "_kg_hide-input": true,
    "_kg_hide-output": true,
    "execution": {
     "iopub.execute_input": "2024-03-11T09:31:18.666542Z",
     "iopub.status.busy": "2024-03-11T09:31:18.665903Z",
     "iopub.status.idle": "2024-03-11T09:31:19.782399Z",
     "shell.execute_reply": "2024-03-11T09:31:19.780938Z"
    },
    "papermill": {
     "duration": 1.129053,
     "end_time": "2024-03-11T09:31:19.785261",
     "exception": false,
     "start_time": "2024-03-11T09:31:18.656208",
     "status": "completed"
    },
    "tags": []
   },
   "outputs": [
    {
     "name": "stdout",
     "output_type": "stream",
     "text": [
      "Setup complete! You're ready to start question 0.\n"
     ]
    }
   ],
   "source": [
    "from learntools.core import binder; binder.bind(globals())\n",
    "from learntools.python.ex1 import *\n",
    "print(\"Setup complete! You're ready to start question 0.\")"
   ]
  },
  {
   "cell_type": "markdown",
   "id": "ba77f3a9",
   "metadata": {
    "papermill": {
     "duration": 0.0084,
     "end_time": "2024-03-11T09:31:19.802513",
     "exception": false,
     "start_time": "2024-03-11T09:31:19.794113",
     "status": "completed"
    },
    "tags": []
   },
   "source": [
    "# 0.\n",
    "\n",
    "*This is a silly question intended as an introduction to the format we use for hands-on exercises throughout all Kaggle courses.*\n",
    "\n",
    "**What is your favorite color? **\n",
    "\n",
    "To complete this question, create a variable called `color` in the cell below with an appropriate value. The function call `q0.check()` (which we've already provided in the cell below) will check your answer."
   ]
  },
  {
   "cell_type": "code",
   "execution_count": 3,
   "id": "dd9b43c4",
   "metadata": {
    "execution": {
     "iopub.execute_input": "2024-03-11T09:31:19.823041Z",
     "iopub.status.busy": "2024-03-11T09:31:19.821482Z",
     "iopub.status.idle": "2024-03-11T09:31:19.832528Z",
     "shell.execute_reply": "2024-03-11T09:31:19.831231Z"
    },
    "papermill": {
     "duration": 0.024454,
     "end_time": "2024-03-11T09:31:19.836062",
     "exception": false,
     "start_time": "2024-03-11T09:31:19.811608",
     "status": "completed"
    },
    "tags": []
   },
   "outputs": [
    {
     "data": {
      "application/javascript": [
       "parent.postMessage({\"jupyterEvent\": \"custom.exercise_interaction\", \"data\": {\"outcomeType\": 4, \"interactionType\": 1, \"questionType\": 2, \"questionId\": \"0_ExerciseFormatTutorial\", \"learnToolsVersion\": \"0.3.4\", \"valueTowardsCompletion\": 0.0, \"failureMessage\": \"\", \"exceptionClass\": \"\", \"trace\": \"\"}}, \"*\")"
      ],
      "text/plain": [
       "<IPython.core.display.Javascript object>"
      ]
     },
     "metadata": {},
     "output_type": "display_data"
    },
    {
     "data": {
      "text/markdown": [
       "<span style=\"color:#ccaa33\">Check:</span> When you've updated the starter code, `check()` will tell you whether your code is correct. Remember, you must create the following variable: `color`"
      ],
      "text/plain": [
       "Check: When you've updated the starter code, `check()` will tell you whether your code is correct. Remember, you must create the following variable: `color`"
      ]
     },
     "metadata": {},
     "output_type": "display_data"
    }
   ],
   "source": [
    "# create a variable called color with an appropriate value on the line below\n",
    "# (Remember, strings in Python must be enclosed in 'single' or \"double\" quotes)\n",
    "\n",
    "# Check your answer\n",
    "q0.check()"
   ]
  },
  {
   "cell_type": "markdown",
   "id": "84522c9c",
   "metadata": {
    "papermill": {
     "duration": 0.008939,
     "end_time": "2024-03-11T09:31:19.853944",
     "exception": false,
     "start_time": "2024-03-11T09:31:19.845005",
     "status": "completed"
    },
    "tags": []
   },
   "source": [
    "Didn't get the right answer? How do you not even know your own favorite color?!\n",
    "\n",
    "Delete the `#` in the line below to make one of the lines run. You can choose between getting a hint or the full answer by choosing which line to remove the `#` from. \n",
    "\n",
    "Removing the `#` is called uncommenting, because it changes that line from a \"comment\" which Python doesn't run to code, which Python does run."
   ]
  },
  {
   "cell_type": "code",
   "execution_count": 4,
   "id": "c23488db",
   "metadata": {
    "execution": {
     "iopub.execute_input": "2024-03-11T09:31:19.873605Z",
     "iopub.status.busy": "2024-03-11T09:31:19.873056Z",
     "iopub.status.idle": "2024-03-11T09:31:19.885796Z",
     "shell.execute_reply": "2024-03-11T09:31:19.884495Z"
    },
    "papermill": {
     "duration": 0.025061,
     "end_time": "2024-03-11T09:31:19.888109",
     "exception": false,
     "start_time": "2024-03-11T09:31:19.863048",
     "status": "completed"
    },
    "tags": []
   },
   "outputs": [
    {
     "data": {
      "application/javascript": [
       "parent.postMessage({\"jupyterEvent\": \"custom.exercise_interaction\", \"data\": {\"interactionType\": 2, \"questionType\": 2, \"questionId\": \"0_ExerciseFormatTutorial\", \"learnToolsVersion\": \"0.3.4\", \"valueTowardsCompletion\": 0.0, \"failureMessage\": \"\", \"exceptionClass\": \"\", \"trace\": \"\", \"outcomeType\": 4}}, \"*\")"
      ],
      "text/plain": [
       "<IPython.core.display.Javascript object>"
      ]
     },
     "metadata": {},
     "output_type": "display_data"
    },
    {
     "data": {
      "text/markdown": [
       "<span style=\"color:#3366cc\">Hint:</span> Your favorite color rhymes with *glue*."
      ],
      "text/plain": [
       "Hint: Your favorite color rhymes with *glue*."
      ]
     },
     "metadata": {},
     "output_type": "display_data"
    },
    {
     "data": {
      "application/javascript": [
       "parent.postMessage({\"jupyterEvent\": \"custom.exercise_interaction\", \"data\": {\"interactionType\": 3, \"questionType\": 2, \"questionId\": \"0_ExerciseFormatTutorial\", \"learnToolsVersion\": \"0.3.4\", \"valueTowardsCompletion\": 0.0, \"failureMessage\": \"\", \"exceptionClass\": \"\", \"trace\": \"\", \"outcomeType\": 4}}, \"*\")"
      ],
      "text/plain": [
       "<IPython.core.display.Javascript object>"
      ]
     },
     "metadata": {},
     "output_type": "display_data"
    },
    {
     "data": {
      "text/markdown": [
       "<span style=\"color:#33cc99\">Solution:</span> \n",
       "```python\n",
       "color = \"blue\"\n",
       "```"
      ],
      "text/plain": [
       "Solution: \n",
       "```python\n",
       "color = \"blue\"\n",
       "```"
      ]
     },
     "metadata": {},
     "output_type": "display_data"
    }
   ],
   "source": [
    "q0.hint()\n",
    "q0.solution()"
   ]
  },
  {
   "cell_type": "markdown",
   "id": "38e21db6",
   "metadata": {
    "papermill": {
     "duration": 0.009468,
     "end_time": "2024-03-11T09:31:19.907538",
     "exception": false,
     "start_time": "2024-03-11T09:31:19.898070",
     "status": "completed"
    },
    "tags": []
   },
   "source": [
    "The upcoming questions work the same way. The only thing that will change are the question numbers. For the next question, you'll call `q1.check()`, `q1.hint()`, `q1.solution()`, for question 2, you'll call `q2.check()`, and so on."
   ]
  },
  {
   "cell_type": "markdown",
   "id": "4fabee89",
   "metadata": {
    "papermill": {
     "duration": 0.010116,
     "end_time": "2024-03-11T09:31:19.927044",
     "exception": false,
     "start_time": "2024-03-11T09:31:19.916928",
     "status": "completed"
    },
    "tags": []
   },
   "source": [
    "<hr/>\n",
    "\n",
    "# 1.\n",
    "\n",
    "Complete the code below. In case it's helpful, here is the table of available arithmetic operations:\n",
    "\n",
    "\n",
    "\n",
    "| Operator     | Name           | Description                                            |\n",
    "|--------------|----------------|--------------------------------------------------------|\n",
    "| ``a + b``    | Addition       | Sum of ``a`` and ``b``                                 |\n",
    "| ``a - b``    | Subtraction    | Difference of ``a`` and ``b``                          |\n",
    "| ``a * b``    | Multiplication | Product of ``a`` and ``b``                             |\n",
    "| ``a / b``    | True division  | Quotient of ``a`` and ``b``                            |\n",
    "| ``a // b``   | Floor division | Quotient of ``a`` and ``b``, removing fractional parts |\n",
    "| ``a % b``    | Modulus        | Integer remainder after division of ``a`` by ``b``     |\n",
    "| ``a ** b``   | Exponentiation | ``a`` raised to the power of ``b``                     |\n",
    "| ``-a``       | Negation       | The negative of ``a``                                  |\n",
    "\n",
    "<span style=\"display:none\"></span>\n"
   ]
  },
  {
   "cell_type": "code",
   "execution_count": 5,
   "id": "27f4ac55",
   "metadata": {
    "execution": {
     "iopub.execute_input": "2024-03-11T09:31:19.948850Z",
     "iopub.status.busy": "2024-03-11T09:31:19.948074Z",
     "iopub.status.idle": "2024-03-11T09:31:19.956799Z",
     "shell.execute_reply": "2024-03-11T09:31:19.955639Z"
    },
    "papermill": {
     "duration": 0.022576,
     "end_time": "2024-03-11T09:31:19.959416",
     "exception": false,
     "start_time": "2024-03-11T09:31:19.936840",
     "status": "completed"
    },
    "tags": []
   },
   "outputs": [
    {
     "data": {
      "application/javascript": [
       "parent.postMessage({\"jupyterEvent\": \"custom.exercise_interaction\", \"data\": {\"outcomeType\": 4, \"interactionType\": 1, \"questionType\": 1, \"questionId\": \"1_CircleArea\", \"learnToolsVersion\": \"0.3.4\", \"valueTowardsCompletion\": 0.0, \"failureMessage\": \"\", \"exceptionClass\": \"\", \"trace\": \"\"}}, \"*\")"
      ],
      "text/plain": [
       "<IPython.core.display.Javascript object>"
      ]
     },
     "metadata": {},
     "output_type": "display_data"
    },
    {
     "data": {
      "text/markdown": [
       "<span style=\"color:#ccaa33\">Check:</span> When you've updated the starter code, `check()` will tell you whether your code is correct. Remember, you must create the following variables: `radius`, `area`"
      ],
      "text/plain": [
       "Check: When you've updated the starter code, `check()` will tell you whether your code is correct. Remember, you must create the following variables: `radius`, `area`"
      ]
     },
     "metadata": {},
     "output_type": "display_data"
    }
   ],
   "source": [
    "pi = 3.14159 # approximate\n",
    "diameter = 3\n",
    "\n",
    "# Create a variable called 'radius' equal to half the diameter\n",
    "\n",
    "# Create a variable called 'area', using the formula for the area of a circle: pi times the radius squared\n",
    "\n",
    "\n",
    "# Check your answer\n",
    "q1.check()"
   ]
  },
  {
   "cell_type": "code",
   "execution_count": 6,
   "id": "9f59e339",
   "metadata": {
    "execution": {
     "iopub.execute_input": "2024-03-11T09:31:19.981603Z",
     "iopub.status.busy": "2024-03-11T09:31:19.980823Z",
     "iopub.status.idle": "2024-03-11T09:31:19.992590Z",
     "shell.execute_reply": "2024-03-11T09:31:19.991204Z"
    },
    "papermill": {
     "duration": 0.025616,
     "end_time": "2024-03-11T09:31:19.995064",
     "exception": false,
     "start_time": "2024-03-11T09:31:19.969448",
     "status": "completed"
    },
    "tags": []
   },
   "outputs": [
    {
     "data": {
      "application/javascript": [
       "parent.postMessage({\"jupyterEvent\": \"custom.exercise_interaction\", \"data\": {\"interactionType\": 2, \"questionType\": 1, \"questionId\": \"1_CircleArea\", \"learnToolsVersion\": \"0.3.4\", \"valueTowardsCompletion\": 0.0, \"failureMessage\": \"\", \"exceptionClass\": \"\", \"trace\": \"\", \"outcomeType\": 4}}, \"*\")"
      ],
      "text/plain": [
       "<IPython.core.display.Javascript object>"
      ]
     },
     "metadata": {},
     "output_type": "display_data"
    },
    {
     "data": {
      "text/markdown": [
       "<span style=\"color:#3366cc\">Hint:</span> The syntax to raise a to the b'th power is `a ** b`"
      ],
      "text/plain": [
       "Hint: The syntax to raise a to the b'th power is `a ** b`"
      ]
     },
     "metadata": {},
     "output_type": "display_data"
    },
    {
     "data": {
      "application/javascript": [
       "parent.postMessage({\"jupyterEvent\": \"custom.exercise_interaction\", \"data\": {\"interactionType\": 3, \"questionType\": 1, \"questionId\": \"1_CircleArea\", \"learnToolsVersion\": \"0.3.4\", \"valueTowardsCompletion\": 0.0, \"failureMessage\": \"\", \"exceptionClass\": \"\", \"trace\": \"\", \"outcomeType\": 4}}, \"*\")"
      ],
      "text/plain": [
       "<IPython.core.display.Javascript object>"
      ]
     },
     "metadata": {},
     "output_type": "display_data"
    },
    {
     "data": {
      "text/markdown": [
       "<span style=\"color:#33cc99\">Solution:</span> \n",
       "```python\n",
       "radius = diameter / 2\n",
       "area = pi * radius ** 2\n",
       "```"
      ],
      "text/plain": [
       "Solution: \n",
       "```python\n",
       "radius = diameter / 2\n",
       "area = pi * radius ** 2\n",
       "```"
      ]
     },
     "metadata": {},
     "output_type": "display_data"
    }
   ],
   "source": [
    "# Uncomment and run the lines below if you need help.\n",
    "q1.hint()\n",
    "q1.solution()"
   ]
  },
  {
   "cell_type": "markdown",
   "id": "39d1b8ca",
   "metadata": {
    "papermill": {
     "duration": 0.010309,
     "end_time": "2024-03-11T09:31:20.016228",
     "exception": false,
     "start_time": "2024-03-11T09:31:20.005919",
     "status": "completed"
    },
    "tags": []
   },
   "source": [
    "<hr/>\n",
    "\n",
    "# 2.\n",
    "\n",
    "Add code to the following cell to swap variables `a` and `b` (so that `a` refers to the object previously referred to by `b` and vice versa)."
   ]
  },
  {
   "cell_type": "code",
   "execution_count": 7,
   "id": "44cf7e1a",
   "metadata": {
    "execution": {
     "iopub.execute_input": "2024-03-11T09:31:20.039975Z",
     "iopub.status.busy": "2024-03-11T09:31:20.039228Z",
     "iopub.status.idle": "2024-03-11T09:31:20.050284Z",
     "shell.execute_reply": "2024-03-11T09:31:20.049038Z"
    },
    "papermill": {
     "duration": 0.025728,
     "end_time": "2024-03-11T09:31:20.052878",
     "exception": false,
     "start_time": "2024-03-11T09:31:20.027150",
     "status": "completed"
    },
    "tags": []
   },
   "outputs": [
    {
     "data": {
      "application/javascript": [
       "parent.postMessage({\"jupyterEvent\": \"custom.exercise_interaction\", \"data\": {\"outcomeType\": 2, \"failureMessage\": \"`a` and `b` still have their original values.\", \"interactionType\": 1, \"questionType\": 2, \"questionId\": \"2_VariableSwap\", \"learnToolsVersion\": \"0.3.4\", \"valueTowardsCompletion\": 0.0, \"exceptionClass\": \"\", \"trace\": \"\"}}, \"*\")"
      ],
      "text/plain": [
       "<IPython.core.display.Javascript object>"
      ]
     },
     "metadata": {},
     "output_type": "display_data"
    },
    {
     "data": {
      "text/markdown": [
       "<span style=\"color:#cc3333\">Incorrect:</span> `a` and `b` still have their original values."
      ],
      "text/plain": [
       "Incorrect: `a` and `b` still have their original values."
      ]
     },
     "metadata": {},
     "output_type": "display_data"
    }
   ],
   "source": [
    "########### Setup code - don't touch this part ######################\n",
    "# If you're curious, these are examples of lists. We'll talk about \n",
    "# them in depth a few lessons from now. For now, just know that they're\n",
    "# yet another type of Python object, like int or float.\n",
    "a = [1, 2, 3]\n",
    "b = [3, 2, 1]\n",
    "q2.store_original_ids()\n",
    "######################################################################\n",
    "\n",
    "# Your code goes here. Swap the values to which a and b refer.\n",
    "# If you get stuck, you can always uncomment one or both of the lines in\n",
    "# the next cell for a hint, or to peek at the solution.\n",
    "\n",
    "######################################################################\n",
    "\n",
    "# Check your answer\n",
    "q2.check()"
   ]
  },
  {
   "cell_type": "code",
   "execution_count": 8,
   "id": "bf768195",
   "metadata": {
    "execution": {
     "iopub.execute_input": "2024-03-11T09:31:20.076737Z",
     "iopub.status.busy": "2024-03-11T09:31:20.076269Z",
     "iopub.status.idle": "2024-03-11T09:31:20.086136Z",
     "shell.execute_reply": "2024-03-11T09:31:20.084858Z"
    },
    "papermill": {
     "duration": 0.024386,
     "end_time": "2024-03-11T09:31:20.088441",
     "exception": false,
     "start_time": "2024-03-11T09:31:20.064055",
     "status": "completed"
    },
    "tags": []
   },
   "outputs": [
    {
     "data": {
      "application/javascript": [
       "parent.postMessage({\"jupyterEvent\": \"custom.exercise_interaction\", \"data\": {\"interactionType\": 2, \"questionType\": 2, \"questionId\": \"2_VariableSwap\", \"learnToolsVersion\": \"0.3.4\", \"valueTowardsCompletion\": 0.0, \"failureMessage\": \"\", \"exceptionClass\": \"\", \"trace\": \"\", \"outcomeType\": 4}}, \"*\")"
      ],
      "text/plain": [
       "<IPython.core.display.Javascript object>"
      ]
     },
     "metadata": {},
     "output_type": "display_data"
    },
    {
     "data": {
      "text/markdown": [
       "<span style=\"color:#3366cc\">Hint:</span> Try using a third variable."
      ],
      "text/plain": [
       "Hint: Try using a third variable."
      ]
     },
     "metadata": {},
     "output_type": "display_data"
    }
   ],
   "source": [
    "q2.hint()"
   ]
  },
  {
   "cell_type": "code",
   "execution_count": 9,
   "id": "c85bdeb7",
   "metadata": {
    "execution": {
     "iopub.execute_input": "2024-03-11T09:31:20.113575Z",
     "iopub.status.busy": "2024-03-11T09:31:20.113186Z",
     "iopub.status.idle": "2024-03-11T09:31:20.121957Z",
     "shell.execute_reply": "2024-03-11T09:31:20.121085Z"
    },
    "papermill": {
     "duration": 0.024045,
     "end_time": "2024-03-11T09:31:20.124292",
     "exception": false,
     "start_time": "2024-03-11T09:31:20.100247",
     "status": "completed"
    },
    "tags": []
   },
   "outputs": [
    {
     "data": {
      "application/javascript": [
       "parent.postMessage({\"jupyterEvent\": \"custom.exercise_interaction\", \"data\": {\"interactionType\": 3, \"questionType\": 2, \"questionId\": \"2_VariableSwap\", \"learnToolsVersion\": \"0.3.4\", \"valueTowardsCompletion\": 0.0, \"failureMessage\": \"\", \"exceptionClass\": \"\", \"trace\": \"\", \"outcomeType\": 4}}, \"*\")"
      ],
      "text/plain": [
       "<IPython.core.display.Javascript object>"
      ]
     },
     "metadata": {},
     "output_type": "display_data"
    },
    {
     "data": {
      "text/markdown": [
       "<span style=\"color:#33cc99\">Solution:</span> The most straightforward solution is to use a third variable to temporarily store one of the old values. e.g.:\n",
       "\n",
       "    tmp = a\n",
       "    a = b\n",
       "    b = tmp\n",
       "\n",
       "If you've read lots of Python code, you might have seen the following trick to swap two variables in one line:\n",
       "\n",
       "    a, b = b, a\n",
       "\n",
       "We'll demystify this bit of Python magic later when we talk about *tuples*."
      ],
      "text/plain": [
       "Solution: The most straightforward solution is to use a third variable to temporarily store one of the old values. e.g.:\n",
       "\n",
       "    tmp = a\n",
       "    a = b\n",
       "    b = tmp\n",
       "\n",
       "If you've read lots of Python code, you might have seen the following trick to swap two variables in one line:\n",
       "\n",
       "    a, b = b, a\n",
       "\n",
       "We'll demystify this bit of Python magic later when we talk about *tuples*."
      ]
     },
     "metadata": {},
     "output_type": "display_data"
    }
   ],
   "source": [
    "q2.solution()"
   ]
  },
  {
   "cell_type": "markdown",
   "id": "4a87c0cc",
   "metadata": {
    "papermill": {
     "duration": 0.011348,
     "end_time": "2024-03-11T09:31:20.147410",
     "exception": false,
     "start_time": "2024-03-11T09:31:20.136062",
     "status": "completed"
    },
    "tags": []
   },
   "source": [
    "<hr/>\n",
    "\n",
    "# 3a.\n",
    "\n",
    "Add parentheses to the following expression so that it evaluates to 1."
   ]
  },
  {
   "cell_type": "code",
   "execution_count": null,
   "id": "b98748b5",
   "metadata": {
    "papermill": {
     "duration": 0.011894,
     "end_time": "2024-03-11T09:31:20.171261",
     "exception": false,
     "start_time": "2024-03-11T09:31:20.159367",
     "status": "completed"
    },
    "tags": []
   },
   "outputs": [],
   "source": []
  },
  {
   "cell_type": "code",
   "execution_count": 10,
   "id": "f98cb7d1",
   "metadata": {
    "execution": {
     "iopub.execute_input": "2024-03-11T09:31:20.197140Z",
     "iopub.status.busy": "2024-03-11T09:31:20.196744Z",
     "iopub.status.idle": "2024-03-11T09:31:20.206186Z",
     "shell.execute_reply": "2024-03-11T09:31:20.205005Z"
    },
    "papermill": {
     "duration": 0.025392,
     "end_time": "2024-03-11T09:31:20.208552",
     "exception": false,
     "start_time": "2024-03-11T09:31:20.183160",
     "status": "completed"
    },
    "tags": []
   },
   "outputs": [
    {
     "data": {
      "application/javascript": [
       "parent.postMessage({\"jupyterEvent\": \"custom.exercise_interaction\", \"data\": {\"interactionType\": 2, \"questionType\": 4, \"questionId\": \"3.1_ArithmeticParensEasy\", \"learnToolsVersion\": \"0.3.4\", \"valueTowardsCompletion\": 0.0, \"failureMessage\": \"\", \"exceptionClass\": \"\", \"trace\": \"\", \"outcomeType\": 4}}, \"*\")"
      ],
      "text/plain": [
       "<IPython.core.display.Javascript object>"
      ]
     },
     "metadata": {},
     "output_type": "display_data"
    },
    {
     "data": {
      "text/markdown": [
       "<span style=\"color:#3366cc\">Hint:</span> Following its default \"BEDMAS\"-like rules for order of operations, Python will first divide 3 by 2, then subtract the result from 5. You need to add parentheses to force it to perform the subtraction first."
      ],
      "text/plain": [
       "Hint: Following its default \"BEDMAS\"-like rules for order of operations, Python will first divide 3 by 2, then subtract the result from 5. You need to add parentheses to force it to perform the subtraction first."
      ]
     },
     "metadata": {},
     "output_type": "display_data"
    }
   ],
   "source": [
    "q3.a.hint()"
   ]
  },
  {
   "cell_type": "code",
   "execution_count": 11,
   "id": "b2c8e455",
   "metadata": {
    "execution": {
     "iopub.execute_input": "2024-03-11T09:31:20.235573Z",
     "iopub.status.busy": "2024-03-11T09:31:20.235188Z",
     "iopub.status.idle": "2024-03-11T09:31:20.244594Z",
     "shell.execute_reply": "2024-03-11T09:31:20.243612Z"
    },
    "papermill": {
     "duration": 0.02585,
     "end_time": "2024-03-11T09:31:20.246952",
     "exception": false,
     "start_time": "2024-03-11T09:31:20.221102",
     "status": "completed"
    },
    "tags": []
   },
   "outputs": [
    {
     "data": {
      "application/javascript": [
       "parent.postMessage({\"jupyterEvent\": \"custom.exercise_interaction\", \"data\": {\"interactionType\": 3, \"questionType\": 4, \"questionId\": \"3.1_ArithmeticParensEasy\", \"learnToolsVersion\": \"0.3.4\", \"valueTowardsCompletion\": 0.0, \"failureMessage\": \"\", \"exceptionClass\": \"\", \"trace\": \"\", \"outcomeType\": 4}}, \"*\")"
      ],
      "text/plain": [
       "<IPython.core.display.Javascript object>"
      ]
     },
     "metadata": {},
     "output_type": "display_data"
    },
    {
     "data": {
      "text/markdown": [
       "<span style=\"color:#33cc99\">Solution:</span> \n",
       "```python\n",
       "(5 - 3) // 2\n",
       "```"
      ],
      "text/plain": [
       "Solution: \n",
       "```python\n",
       "(5 - 3) // 2\n",
       "```"
      ]
     },
     "metadata": {},
     "output_type": "display_data"
    }
   ],
   "source": [
    "# Check your answer (Run this code cell to receive credit!)\n",
    "q3.a.solution()"
   ]
  },
  {
   "cell_type": "markdown",
   "id": "cfe16d2f",
   "metadata": {
    "papermill": {
     "duration": 0.012432,
     "end_time": "2024-03-11T09:31:20.272752",
     "exception": false,
     "start_time": "2024-03-11T09:31:20.260320",
     "status": "completed"
    },
    "tags": []
   },
   "source": [
    "# 3b.  <span title=\"A bit spicy\" style=\"color: darkgreen \">🌶️</span>\n",
    "\n",
    "<small>Questions, like this one, marked a spicy pepper are a bit harder.</small>\n",
    "\n",
    "Add parentheses to the following expression so that it evaluates to 0."
   ]
  },
  {
   "cell_type": "code",
   "execution_count": 12,
   "id": "e9054f5d",
   "metadata": {
    "execution": {
     "iopub.execute_input": "2024-03-11T09:31:20.301213Z",
     "iopub.status.busy": "2024-03-11T09:31:20.300815Z",
     "iopub.status.idle": "2024-03-11T09:31:20.307964Z",
     "shell.execute_reply": "2024-03-11T09:31:20.306719Z"
    },
    "papermill": {
     "duration": 0.024973,
     "end_time": "2024-03-11T09:31:20.310448",
     "exception": false,
     "start_time": "2024-03-11T09:31:20.285475",
     "status": "completed"
    },
    "tags": []
   },
   "outputs": [
    {
     "data": {
      "text/plain": [
       "2"
      ]
     },
     "execution_count": 12,
     "metadata": {},
     "output_type": "execute_result"
    }
   ],
   "source": [
    "8 - 3 * 2 - 1 + 1"
   ]
  },
  {
   "cell_type": "code",
   "execution_count": 13,
   "id": "9a384a48",
   "metadata": {
    "execution": {
     "iopub.execute_input": "2024-03-11T09:31:20.340270Z",
     "iopub.status.busy": "2024-03-11T09:31:20.339791Z",
     "iopub.status.idle": "2024-03-11T09:31:20.349988Z",
     "shell.execute_reply": "2024-03-11T09:31:20.348700Z"
    },
    "papermill": {
     "duration": 0.028707,
     "end_time": "2024-03-11T09:31:20.352473",
     "exception": false,
     "start_time": "2024-03-11T09:31:20.323766",
     "status": "completed"
    },
    "tags": []
   },
   "outputs": [
    {
     "data": {
      "application/javascript": [
       "parent.postMessage({\"jupyterEvent\": \"custom.exercise_interaction\", \"data\": {\"interactionType\": 2, \"questionType\": 4, \"questionId\": \"3.2_ArithmeticParensHard\", \"learnToolsVersion\": \"0.3.4\", \"valueTowardsCompletion\": 0.0, \"failureMessage\": \"\", \"exceptionClass\": \"\", \"trace\": \"\", \"outcomeType\": 4}}, \"*\")"
      ],
      "text/plain": [
       "<IPython.core.display.Javascript object>"
      ]
     },
     "metadata": {},
     "output_type": "display_data"
    },
    {
     "data": {
      "text/markdown": [
       "<span style=\"color:#3366cc\">Hint:</span> You may need to use several pairs of parentheses."
      ],
      "text/plain": [
       "Hint: You may need to use several pairs of parentheses."
      ]
     },
     "metadata": {},
     "output_type": "display_data"
    }
   ],
   "source": [
    "q3.b.hint()"
   ]
  },
  {
   "cell_type": "code",
   "execution_count": 14,
   "id": "10465a54",
   "metadata": {
    "execution": {
     "iopub.execute_input": "2024-03-11T09:31:20.382587Z",
     "iopub.status.busy": "2024-03-11T09:31:20.381287Z",
     "iopub.status.idle": "2024-03-11T09:31:20.389968Z",
     "shell.execute_reply": "2024-03-11T09:31:20.389011Z"
    },
    "papermill": {
     "duration": 0.026337,
     "end_time": "2024-03-11T09:31:20.392606",
     "exception": false,
     "start_time": "2024-03-11T09:31:20.366269",
     "status": "completed"
    },
    "tags": []
   },
   "outputs": [
    {
     "data": {
      "application/javascript": [
       "parent.postMessage({\"jupyterEvent\": \"custom.exercise_interaction\", \"data\": {\"interactionType\": 3, \"questionType\": 4, \"questionId\": \"3.2_ArithmeticParensHard\", \"learnToolsVersion\": \"0.3.4\", \"valueTowardsCompletion\": 0.0, \"failureMessage\": \"\", \"exceptionClass\": \"\", \"trace\": \"\", \"outcomeType\": 4}}, \"*\")"
      ],
      "text/plain": [
       "<IPython.core.display.Javascript object>"
      ]
     },
     "metadata": {},
     "output_type": "display_data"
    },
    {
     "data": {
      "text/markdown": [
       "<span style=\"color:#33cc99\">Solution:</span> `(8 - 3) * (2 - (1 + 1))` is one solution. There may be others."
      ],
      "text/plain": [
       "Solution: `(8 - 3) * (2 - (1 + 1))` is one solution. There may be others."
      ]
     },
     "metadata": {},
     "output_type": "display_data"
    }
   ],
   "source": [
    "# Check your answer (Run this code cell to receive credit!)\n",
    "q3.b.solution()"
   ]
  },
  {
   "cell_type": "markdown",
   "id": "8b607f76",
   "metadata": {
    "papermill": {
     "duration": 0.013488,
     "end_time": "2024-03-11T09:31:20.420978",
     "exception": false,
     "start_time": "2024-03-11T09:31:20.407490",
     "status": "completed"
    },
    "tags": []
   },
   "source": [
    "<hr/>\n",
    "\n",
    "# 4. \n",
    "Alice, Bob and Carol have agreed to pool their Halloween candy and split it evenly among themselves.\n",
    "For the sake of their friendship, any candies left over will be smashed. For example, if they collectively\n",
    "bring home 91 candies, they'll take 30 each and smash 1.\n",
    "\n",
    "Write an arithmetic expression below to calculate how many candies they must smash for a given haul."
   ]
  },
  {
   "cell_type": "code",
   "execution_count": 15,
   "id": "f2e51a36",
   "metadata": {
    "execution": {
     "iopub.execute_input": "2024-03-11T09:31:20.450438Z",
     "iopub.status.busy": "2024-03-11T09:31:20.450048Z",
     "iopub.status.idle": "2024-03-11T09:31:20.460750Z",
     "shell.execute_reply": "2024-03-11T09:31:20.459501Z"
    },
    "papermill": {
     "duration": 0.028687,
     "end_time": "2024-03-11T09:31:20.463267",
     "exception": false,
     "start_time": "2024-03-11T09:31:20.434580",
     "status": "completed"
    },
    "tags": []
   },
   "outputs": [
    {
     "data": {
      "application/javascript": [
       "parent.postMessage({\"jupyterEvent\": \"custom.exercise_interaction\", \"data\": {\"outcomeType\": 4, \"interactionType\": 1, \"questionType\": 1, \"questionId\": \"4_CandySplitting\", \"learnToolsVersion\": \"0.3.4\", \"valueTowardsCompletion\": 0.0, \"failureMessage\": \"\", \"exceptionClass\": \"\", \"trace\": \"\"}}, \"*\")"
      ],
      "text/plain": [
       "<IPython.core.display.Javascript object>"
      ]
     },
     "metadata": {},
     "output_type": "display_data"
    },
    {
     "data": {
      "text/markdown": [
       "<span style=\"color:#ccaa33\">Check:</span> When you've updated the starter code, `check()` will tell you whether your code is correct. Remember, you must create the following variable: `to_smash`"
      ],
      "text/plain": [
       "Check: When you've updated the starter code, `check()` will tell you whether your code is correct. Remember, you must create the following variable: `to_smash`"
      ]
     },
     "metadata": {},
     "output_type": "display_data"
    }
   ],
   "source": [
    "# Variables representing the number of candies collected by alice, bob, and carol\n",
    "alice_candies = 121\n",
    "bob_candies = 77\n",
    "carol_candies = 109\n",
    "\n",
    "# Your code goes here! Replace the right-hand side of this assignment with an expression\n",
    "# involving alice_candies, bob_candies, and carol_candies\n",
    "\n",
    "\n",
    "# Check your answer\n",
    "q4.check()"
   ]
  },
  {
   "cell_type": "code",
   "execution_count": 16,
   "id": "a6b52ddb",
   "metadata": {
    "execution": {
     "iopub.execute_input": "2024-03-11T09:31:20.494201Z",
     "iopub.status.busy": "2024-03-11T09:31:20.493838Z",
     "iopub.status.idle": "2024-03-11T09:31:20.512363Z",
     "shell.execute_reply": "2024-03-11T09:31:20.510318Z"
    },
    "papermill": {
     "duration": 0.037894,
     "end_time": "2024-03-11T09:31:20.515227",
     "exception": false,
     "start_time": "2024-03-11T09:31:20.477333",
     "status": "completed"
    },
    "tags": []
   },
   "outputs": [
    {
     "data": {
      "application/javascript": [
       "parent.postMessage({\"jupyterEvent\": \"custom.exercise_interaction\", \"data\": {\"interactionType\": 2, \"questionType\": 1, \"questionId\": \"4_CandySplitting\", \"learnToolsVersion\": \"0.3.4\", \"valueTowardsCompletion\": 0.0, \"failureMessage\": \"\", \"exceptionClass\": \"\", \"trace\": \"\", \"outcomeType\": 4}}, \"*\")"
      ],
      "text/plain": [
       "<IPython.core.display.Javascript object>"
      ]
     },
     "metadata": {},
     "output_type": "display_data"
    },
    {
     "data": {
      "text/markdown": [
       "<span style=\"color:#3366cc\">Hint 1:</span> You'll probably want to use the modulo operator, `%`.\n",
       "(For another hint, call `.hint(2)`)"
      ],
      "text/plain": [
       "Hint 1: You'll probably want to use the modulo operator, `%`.\n",
       "(For another hint, call `.hint(2)`)"
      ]
     },
     "metadata": {},
     "output_type": "display_data"
    },
    {
     "data": {
      "application/javascript": [
       "parent.postMessage({\"jupyterEvent\": \"custom.exercise_interaction\", \"data\": {\"interactionType\": 3, \"questionType\": 1, \"questionId\": \"4_CandySplitting\", \"learnToolsVersion\": \"0.3.4\", \"valueTowardsCompletion\": 0.0, \"failureMessage\": \"\", \"exceptionClass\": \"\", \"trace\": \"\", \"outcomeType\": 4}}, \"*\")"
      ],
      "text/plain": [
       "<IPython.core.display.Javascript object>"
      ]
     },
     "metadata": {},
     "output_type": "display_data"
    },
    {
     "data": {
      "text/markdown": [
       "<span style=\"color:#33cc99\">Solution:</span> \n",
       "```python\n",
       "(alice_candies + bob_candies + carol_candies) % 3\n",
       "```"
      ],
      "text/plain": [
       "Solution: \n",
       "```python\n",
       "(alice_candies + bob_candies + carol_candies) % 3\n",
       "```"
      ]
     },
     "metadata": {},
     "output_type": "display_data"
    }
   ],
   "source": [
    "q4.hint()\n",
    "q4.solution()"
   ]
  },
  {
   "cell_type": "markdown",
   "id": "e36e3376",
   "metadata": {
    "papermill": {
     "duration": 0.022194,
     "end_time": "2024-03-11T09:31:20.557048",
     "exception": false,
     "start_time": "2024-03-11T09:31:20.534854",
     "status": "completed"
    },
    "tags": []
   },
   "source": [
    "# Keep Going\n",
    "\n",
    "Next up, you'll **[learn to write new functions and understand functions others write](https://www.kaggle.com/colinmorris/functions-and-getting-help)**. This will make you at least 10 times more productive as a Python programmer. "
   ]
  },
  {
   "cell_type": "markdown",
   "id": "fb36c4b2",
   "metadata": {
    "papermill": {
     "duration": 0.014754,
     "end_time": "2024-03-11T09:31:20.589549",
     "exception": false,
     "start_time": "2024-03-11T09:31:20.574795",
     "status": "completed"
    },
    "tags": []
   },
   "source": [
    "---\n",
    "\n",
    "\n",
    "\n",
    "\n",
    "*Have questions or comments? Visit the [course discussion forum](https://www.kaggle.com/learn/python/discussion) to chat with other learners.*"
   ]
  }
 ],
 "metadata": {
  "kaggle": {
   "accelerator": "none",
   "dataSources": [],
   "isGpuEnabled": false,
   "isInternetEnabled": false,
   "language": "python",
   "sourceType": "notebook"
  },
  "kernelspec": {
   "display_name": "Python 3",
   "language": "python",
   "name": "python3"
  },
  "language_info": {
   "codemirror_mode": {
    "name": "ipython",
    "version": 3
   },
   "file_extension": ".py",
   "mimetype": "text/x-python",
   "name": "python",
   "nbconvert_exporter": "python",
   "pygments_lexer": "ipython3",
   "version": "3.10.13"
  },
  "learntools_metadata": {
   "lesson_index": 0,
   "type": "exercise"
  },
  "papermill": {
   "default_parameters": {},
   "duration": 5.919553,
   "end_time": "2024-03-11T09:31:21.125760",
   "environment_variables": {},
   "exception": null,
   "input_path": "__notebook__.ipynb",
   "output_path": "__notebook__.ipynb",
   "parameters": {},
   "start_time": "2024-03-11T09:31:15.206207",
   "version": "2.5.0"
  }
 },
 "nbformat": 4,
 "nbformat_minor": 5
}
